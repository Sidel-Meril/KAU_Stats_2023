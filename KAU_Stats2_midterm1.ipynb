{
 "cells": [
  {
   "cell_type": "markdown",
   "id": "1042a558",
   "metadata": {},
   "source": [
    "# Content\n",
    "\n",
    "+ Testing hypotheses about the equality of means\n",
    "+ Testing hypotheses about the covariance matrix\n",
    "+ Linear regression and analysis of variance"
   ]
  },
  {
   "cell_type": "code",
   "execution_count": 1,
   "id": "cb01b7f4",
   "metadata": {},
   "outputs": [],
   "source": [
    "import scipy.stats as sts\n",
    "import pandas\n",
    "import numpy as np\n",
    "import scipy.stats as sts\n",
    "from scipy.spatial.distance import mahalanobis\n",
    "import pingouin as pg\n",
    "import pandas as pd\n",
    "import statsmodels"
   ]
  },
  {
   "cell_type": "markdown",
   "id": "fb4e77ea",
   "metadata": {},
   "source": [
    "## Testing hypotheses about the equality of means"
   ]
  },
  {
   "cell_type": "markdown",
   "id": "a545bd08",
   "metadata": {},
   "source": [
    "### Task 1\n",
    "\n",
    "**5.18** [Rencher p. 166](https://drive.google.com/file/d/163WNrEq6DMY7ryppXldQUmI9A7SEQFh0/view) Twenty engineer apprentices and 20 pilots were given six tests (Travers 1939).\n",
    "The variables were\n",
    "\n",
    "$y_1$ = intelligence,\n",
    "\n",
    "$y_2$ = form relations,\n",
    "\n",
    "$y_3$ = dynamometer,\n",
    "\n",
    "$y_4$ = dotting,\n",
    "\n",
    "$y_5$ = sensory motor coordination,\n",
    "\n",
    "$y_6$ = perseveration.\n",
    "\n",
    "The data are given in Table 5.6.\n",
    "\n",
    "**(a)** Test $H_0$ : $\\mu_1 = \\mu_2$.\n",
    "\n",
    "**(b)** If the $T^2$-test in part (a) rejects $H_0$, carry out a t-test for each variable, as\n",
    "in (5.15)."
   ]
  },
  {
   "cell_type": "code",
   "execution_count": 76,
   "id": "7082aead",
   "metadata": {},
   "outputs": [],
   "source": [
    "_annot = '''y1 y2 y3 y4 y5 y6 y1 y2 y3 y4 y5 y6'''\n",
    "_data='''121 22 74 223 54 254 132 17 77 232 50 249\n",
    "108 30 80 175 40 300 123 32 79 192 64 315\n",
    "122 49 87 266 41 223 129 31 96 250 55 319\n",
    "77 37 66 178 80 209 131 23 67 291 48 310\n",
    "140 35 71 175 38 261 110 24 96 239 42 268\n",
    "108 37 57 241 59 245 47 22 87 231 40 217\n",
    "124 39 52 194 72 242 125 32 87 227 30 324\n",
    "130 34 89 200 85 242 129 29 102 234 58 300\n",
    "149 55 91 198 50 277 130 26 104 256 58 270\n",
    "129 38 72 162 47 268 147 47 82 240 30 322\n",
    "154 37 87 170 60 244 159 37 80 227 58 317\n",
    "145 33 88 208 51 228 135 41 83 216 39 306\n",
    "112 40 60 232 29 279 100 35 83 183 57 242\n",
    "120 39 73 159 39 233 149 37 94 227 30 240\n",
    "118 21 83 152 88 233 149 38 78 258 42 271\n",
    "141 42 80 195 36 241 153 27 89 283 66 291\n",
    "135 49 73 152 42 249 136 31 83 257 31 311\n",
    "151 37 76 223 74 268 97 36 100 252 30 225\n",
    "97 46 83 164 31 243 141 37 105 250 27 243\n",
    "109 42 82 188 57 267 164 32 76 187 30 264'''\n",
    "\n",
    "tmp = np.loadtxt(_data.splitlines())\n",
    "A = tmp[:, :6]\n",
    "B = tmp[:, 6:]\n",
    "assert A.shape == B.shape"
   ]
  },
  {
   "cell_type": "markdown",
   "id": "a187a6b1",
   "metadata": {},
   "source": [
    "We don't have information about covariance matrix so we should use Hotelling statistics $T^2$ with next hypotesises:\n",
    "\n",
    "$H_0$ : $\\mu_1 = \\mu_2$\n",
    "\n",
    "$H_1$ : counterwise to $H_0$\n",
    "\n",
    "So if $H_0$ is True we should recieve $T^2 = T^2_{p, n-1}$\n",
    "\n",
    "Let's $\\alpha$ (the confidence level) is **.95** and $p,n$ is freedom degree and number of samples\n",
    "\n",
    "We'll use Fisher statistic which equivalent of Hotelling:\n",
    "\n",
    "$ T^2_{p, n_1+n_2-2} \\approx  F_{p, n_1+n_2-p-1} $\n",
    "\n",
    "*Check of Hotelling test performed with calculating mahalanobis distance with build-in function of scipy module before providing results of $T^2$ test*"
   ]
  },
  {
   "cell_type": "code",
   "execution_count": 77,
   "id": "3a872413",
   "metadata": {},
   "outputs": [],
   "source": [
    "def t2test(A: np.ndarray, B: np.ndarray, p: float) -> bool:\n",
    "    len_A, len_B = A.shape[0], B.shape[0]\n",
    "    fd_A, fd_B = A.shape[1], B.shape[1] \n",
    "    \n",
    "    # Calculating T^2\n",
    "    \n",
    "    # Recieving means\n",
    "    mean_A, mean_B = np.mean(A, axis=0), np.mean(B, axis=0)\n",
    "    \n",
    "    #Receiving pooled covariance\n",
    "    cov_A, cov_B = np.cov(A, rowvar = False), np.cov(A, rowvar = False)\n",
    "    pool_cov = ((len_A-1)*cov_A+(len_B-1)*cov_B)/(len_A+len_B-2)\n",
    "    \n",
    "    dmean = mean_A-mean_B\n",
    "    pc_inv = np.linalg.inv(pool_cov)\n",
    "    t =(len_A*len_B)*dmean@pc_inv@dmean.T/(len_A+len_B)\n",
    "    \n",
    "    #check with buil-in function\n",
    "    _check = (len_A*len_B)*((mahalanobis(mean_A, mean_B, pc_inv))**2)/(len_A+len_B)\n",
    "    assert abs(_check-t)<1e-3 , 'T^2 check failed'\n",
    "    \n",
    "    # Calculating quantile T^2_{a, p, n-1}\n",
    "    t_ref = sts.f.ppf(1-alpha, fd_A, len_A+len_B-fd_A-1)\n",
    "    \n",
    "    print('calc. T^2\\tT^2_{a, p, n-1}\\n', np.round(t,4) , '\\t', np.round(t_ref, 4))\n",
    "    \n",
    "    # Checking condition: if T^2 > T^2_{a, p, n-1} -> False\n",
    "    if t>t_ref:\n",
    "        return False\n",
    "    else:\n",
    "        return True\n",
    "\n",
    "#if two-dim. T-test fails we should check each sample with simple T-test\n",
    "def ttest(A: np.ndarray, B: np.ndarray, p: float):\n",
    "    len_A, len_B = len(A), len(B)\n",
    "    \n",
    "    mean_A, mean_B = np.mean(A, axis=0), np.mean(B, axis=0)\n",
    "    var_A, var_B = np.var(A, axis=0, ddof=1), np.var(B, axis=0, ddof=1)\n",
    "    pool_var = ((len_A-1)*var_A+(len_B-1)*var_B)/(len_A+len_B-2)\n",
    "    \n",
    "    t = (mean_A-mean_B)/np.sqrt(pool_var*(1/len_A + 1/len_B))\n",
    "\n",
    "    p_ref = 1-sts.t.pdf(np.abs(t), df= len_A+len_B-2)\n",
    "    \n",
    "    print('t-values\\t', np.round(t,4) , '\\np-values\\t', np.round(p_ref, 4), '\\nComparsion with significance level\\t', p_ref>=p)\n",
    "    return t"
   ]
  },
  {
   "cell_type": "code",
   "execution_count": 78,
   "id": "1317ddaa",
   "metadata": {},
   "outputs": [
    {
     "name": "stdout",
     "output_type": "stream",
     "text": [
      "calc. T^2\tT^2_{a, p, n-1}\n",
      " 71.0997 \t 0.2634\n",
      "T^2 test failed.\n",
      "Calculating t-test sample by sample:\n",
      "\n",
      "\n",
      "t-values\t [-0.6556  2.6139 -3.2884 -4.6315  1.8873 -3.2205] \n",
      "p-values\t [0.6817 0.9842 0.997  0.9999 0.9309 0.9964] \n",
      "Comparsion with significance level\t [False  True  True  True False  True]\n"
     ]
    }
   ],
   "source": [
    "# conditioning (a) and (b) tasks\n",
    "alpha =.95\n",
    "if t2test(A, B, p=alpha) != True:\n",
    "    print('T^2 test failed.\\nCalculating t-test sample by sample:\\n\\n')\n",
    "    mtres = ttest(A, B, p=0.95)"
   ]
  },
  {
   "cell_type": "code",
   "execution_count": 79,
   "id": "8c5084f3",
   "metadata": {},
   "outputs": [
    {
     "name": "stdout",
     "output_type": "stream",
     "text": [
      "t-values\t [-0.6556  2.6139 -3.2884 -4.6315  1.8873 -3.2205] \n",
      "p-values\t [0.484  0.9872 0.9978 1.     0.9332 0.9974]\n"
     ]
    }
   ],
   "source": [
    "# check\n",
    "res = sts.ttest_ind(A, B)\n",
    "assert np.sum(mtres-res.statistic) < 1e-3, 'Check of t-test failed'\n",
    "print('t-values\\t', np.round(res.statistic, 4),'\\np-values\\t', np.round(1-res.pvalue, 4))"
   ]
  },
  {
   "cell_type": "markdown",
   "id": "26a28af6",
   "metadata": {},
   "source": [
    "**Conclusion**\n",
    "\n",
    "$T^2$ tests are failed so $H_0$ rejected. The means aren't same for $\\alpha=.95$. $T$-test shows that in form relations, dynamometer, dotting, perseveration excepted values are same for pilots and engineers. "
   ]
  },
  {
   "cell_type": "markdown",
   "id": "ec2b8d4e",
   "metadata": {},
   "source": [
    "### Task 2\n",
    "\n",
    "**5.20** [Rencher p. 168](https://drive.google.com/file/d/163WNrEq6DMY7ryppXldQUmI9A7SEQFh0/view) Various aspects of economic cycles were measured for consumers’ goods and\n",
    "producers’ goods by Tintner (1946). The variables are\n",
    "\n",
    "$y_1$ = length of cycle,\n",
    "\n",
    "$y_2$ = percentage of rising prices,\n",
    "\n",
    "$y_3$ = cyclical amplitude,\n",
    "\n",
    "$y_4$ = rate of change.\n",
    "\n",
    "The data for several items are given in Table 5.8.\n",
    "\n",
    "**(a)** Test $H_0$ : $\\mu_1 = \\mu_2$ using $T^2$."
   ]
  },
  {
   "cell_type": "code",
   "execution_count": 54,
   "id": "c827d570",
   "metadata": {},
   "outputs": [
    {
     "name": "stdout",
     "output_type": "stream",
     "text": [
      "(9, 4) (10, 4)\n"
     ]
    }
   ],
   "source": [
    "_annot = '''Item y1 y2 y3 y4 Item y1 y2 y3 y4'''\n",
    "_data = '''1 72 50 8 .5 1 57 57 12.5 .9\n",
    "2 66.5 48 15 1.0 2 100 54 17 .5\n",
    "3 54 57 14 1.0 3 100 32 16.5 .7\n",
    "4 67 60 15 .9 4 96.5 65 20.5 .9\n",
    "5 44 57 14 .3 5 79 51 18 .9\n",
    "6 41 52 18 1.9 6 78.5 53 18 1.2\n",
    "7 34.5 50 4 .5 7 48 50 21 1.6\n",
    "8 34.5 46 8.5 1.0 8 155 44 20.5 1.4\n",
    "9 24 54 3 1.2 9 84 64 13 .8\n",
    "10 0 0 0 0 10 105 35 17 1.8'''\n",
    "tmp = np.loadtxt(_data.splitlines())\n",
    "A, B = tmp[:, :5], tmp[:, 5:]\n",
    "assert A.shape==B.shape\n",
    "# strip annotation\n",
    "A, B = A[:-1,1:], B[:,1:]\n",
    "print(A.shape, B.shape)"
   ]
  },
  {
   "cell_type": "code",
   "execution_count": 52,
   "id": "be8b2d92",
   "metadata": {},
   "outputs": [
    {
     "name": "stdout",
     "output_type": "stream",
     "text": [
      "calc. T^2\tT^2_{a, p, n-1}\n",
      " 619.2881 \t 0.2244\n",
      "Is H_0 not rejected: False\n"
     ]
    }
   ],
   "source": [
    "print('Is H_0 not rejected:', t2test(A, B, p=0.95))"
   ]
  },
  {
   "cell_type": "markdown",
   "id": "d7c9998d",
   "metadata": {},
   "source": [
    "**Conclusion**\n",
    "\n",
    "Consumer's goods excepted values in not equal to producer's goods excepted values ($H_0$ rejected)"
   ]
  },
  {
   "cell_type": "markdown",
   "id": "1f79c0ce",
   "metadata": {},
   "source": [
    "## Testing hypotheses about the covariance matrix"
   ]
  },
  {
   "cell_type": "markdown",
   "id": "972256b1",
   "metadata": {},
   "source": [
    "### Task 1\n",
    "\n",
    "**7.14** [Rencher p. 282](https://drive.google.com/file/d/163WNrEq6DMY7ryppXldQUmI9A7SEQFh0/view)\n",
    "\n",
    "In Example 5.2.2, we assumed that for the height and weight data of Table 3.1 (p.50),\n",
    "the population covariance matrix is\n",
    "\n",
    "\\begin{equation*}\n",
    "\\Sigma={\n",
    "    \\begin{bmatrix}\n",
    "        20 & 100 \\\\\n",
    "        100 & 1000\n",
    "    \\end{bmatrix}}\n",
    "\\end{equation*}\n",
    "\n",
    "Test this as a hypothesis using (7.2)."
   ]
  },
  {
   "cell_type": "code",
   "execution_count": 4,
   "id": "7fdcc034",
   "metadata": {},
   "outputs": [],
   "source": [
    "_annot = '''Person Height Weight Person Height Weight'''\n",
    "_data = '''1 69 153 11 72 140\n",
    "2 74 175 12 79 265\n",
    "3 68 155 13 74 185\n",
    "4 70 135 14 67 112\n",
    "5 72 172 15 66 140\n",
    "6 67 150 16 71 150\n",
    "7 66 115 17 74 165\n",
    "8 70 137 18 75 185\n",
    "9 76 200 19 75 210\n",
    "10 68 130 20 76 220'''\n",
    "_data2 = '''20 100\n",
    "100 1000'''\n",
    "tmp = np.loadtxt(_data.splitlines())\n",
    "A, B = tmp[:, :3], tmp[:, 3:]\n",
    "#strip annotation and join\n",
    "A = np.concatenate([A[:, 1:], B[:, 1:]])\n",
    "ref_cov = np.loadtxt(_data2.splitlines())"
   ]
  },
  {
   "cell_type": "code",
   "execution_count": 58,
   "id": "8c8c56a2",
   "metadata": {},
   "outputs": [
    {
     "data": {
      "text/plain": [
       "(array([[ 69., 153.],\n",
       "        [ 74., 175.],\n",
       "        [ 68., 155.],\n",
       "        [ 70., 135.],\n",
       "        [ 72., 172.],\n",
       "        [ 67., 150.],\n",
       "        [ 66., 115.],\n",
       "        [ 70., 137.],\n",
       "        [ 76., 200.],\n",
       "        [ 68., 130.],\n",
       "        [ 72., 140.],\n",
       "        [ 79., 265.],\n",
       "        [ 74., 185.],\n",
       "        [ 67., 112.],\n",
       "        [ 66., 140.],\n",
       "        [ 71., 150.],\n",
       "        [ 74., 165.],\n",
       "        [ 75., 185.],\n",
       "        [ 75., 210.],\n",
       "        [ 76., 220.]]),\n",
       " array([[  20.,  100.],\n",
       "        [ 100., 1000.]]))"
      ]
     },
     "execution_count": 58,
     "metadata": {},
     "output_type": "execute_result"
    }
   ],
   "source": [
    "A, ref_cov"
   ]
  },
  {
   "cell_type": "markdown",
   "id": "b1bd68ba",
   "metadata": {},
   "source": [
    "We have defined reference covariation matrix so we can use test with next hypotesis:\n",
    "\n",
    "$H_0: \\Sigma = \\Sigma_0$\n",
    "\n",
    "$H_1: \\Sigma \\ne \\Sigma_0$\n",
    "\n",
    "And confidence level $\\alpha = .95$\n",
    "\n",
    "Statistic  \n",
    "$U = \\nu[\\ln{|\\Sigma_0|}-\\ln{|S|}+\\operatorname{trace}(Sigma^{-1}_0*S)-p]$\n",
    "\n",
    "$\\tilde{U}= [1-\\frac{1}{6\\nu-1}(2p+1-\\frac{2}{p+1})]U$ \n",
    "\n",
    "which distributed as\n",
    "\n",
    "$\\chi^2_{\\frac{p*(p+1)}{2}}$"
   ]
  },
  {
   "cell_type": "code",
   "execution_count": 22,
   "id": "13a98aa2",
   "metadata": {},
   "outputs": [],
   "source": [
    " def cov_test(A: np.ndarray, ref_cov: np.ndarray, p: float) -> bool:\n",
    "    n = A.shape[0] - 1\n",
    "    fd = A.shape[1]\n",
    "    cov_A = np.cov(A.T)\n",
    "    det_ref_cov = np.linalg.det(ref_cov)\n",
    "    det_cov_A = np.linalg.det(cov_A)\n",
    "    cov_trace = np.trace(np.linalg.inv(ref_cov)@cov_A)\n",
    "    u = n*(np.log(det_ref_cov)-np.log(det_cov_A)+cov_trace-fd)\n",
    "    u *= 1-(1/(6*n-1))*(2*fd-1-(2/(fd-1)))\n",
    "    u_ref = sts.chi2.ppf(p, fd * (fd + 1) // 2)\n",
    "    print('\\tu_til\\tChi quatile\\n',u, '\\t',u_ref)\n",
    "    return u<u_ref"
   ]
  },
  {
   "cell_type": "code",
   "execution_count": 59,
   "id": "fe303635",
   "metadata": {},
   "outputs": [
    {
     "name": "stdout",
     "output_type": "stream",
     "text": [
      "\tu_til\tChi quatile\n",
      " 10.995568353069151 \t 7.814727903251179\n"
     ]
    },
    {
     "data": {
      "text/plain": [
       "False"
      ]
     },
     "execution_count": 59,
     "metadata": {},
     "output_type": "execute_result"
    }
   ],
   "source": [
    "cov_test(A, ref_cov, p=.95)"
   ]
  },
  {
   "cell_type": "markdown",
   "id": "7984b12c",
   "metadata": {},
   "source": [
    "**Conclusion**\n",
    "\n",
    "The defined population covariation matrix describes the height and the weight data of males"
   ]
  },
  {
   "cell_type": "markdown",
   "id": "858217d2",
   "metadata": {},
   "source": [
    "### Task 2\n",
    "\n",
    "**7.15** [Rencher p. 282](https://drive.google.com/file/d/163WNrEq6DMY7ryppXldQUmI9A7SEQFh0/view)\n",
    "\n",
    "Test $H_0 :  = σ^2I$ for the calculator speed data of\n",
    "Table 6.12.\n",
    "\n",
    "Test this as a hypothesis using (7.2)."
   ]
  },
  {
   "cell_type": "code",
   "execution_count": 18,
   "id": "19a0d8f1",
   "metadata": {},
   "outputs": [
    {
     "name": "stdout",
     "output_type": "stream",
     "text": [
      "(5, 2) (5, 2)\n"
     ]
    }
   ],
   "source": [
    "_data = '''30 21 21 14\n",
    "22 13 22 5\n",
    "29 13 18 17\n",
    "12 7 16 14\n",
    "23 24 23 8'''\n",
    "tmp = np.loadtxt(_data.splitlines())\n",
    "A, B = tmp[:,:2], tmp[:,2:]\n",
    "C = np.hstack([A,B])\n",
    "print(A.shape, B.shape)"
   ]
  },
  {
   "cell_type": "markdown",
   "id": "e345e352",
   "metadata": {},
   "source": [
    "The test for sphericity is performed using the Mauchy test, where we test the following hypotheses\n",
    "\n",
    "$H_0: \\Sigma = σ^2I$\n",
    "\n",
    "$H_1: \\Sigma \\ne σ^2I$\n",
    "\n",
    "And confidence level $\\alpha = .95$\n",
    "\n",
    "with the help of statistics\n",
    "\n",
    "$u = \\frac{p^p det(S)}{(TrS)^p}$\n",
    "\n",
    "$u'=  -\\left(n-1-\\frac{2p^2 +p+2}{6p}\\right)\\log u$ \n",
    "(for middle count of samples)\n",
    "\n",
    "which distributed as\n",
    "\n",
    "$\\chi^2_{\\frac{p*(p+1)}{2}-1}$"
   ]
  },
  {
   "cell_type": "code",
   "execution_count": 19,
   "id": "058a5a4b",
   "metadata": {},
   "outputs": [],
   "source": [
    "def mauchly_test(A, p, full: bool):\n",
    "    n = A.shape[0]-1\n",
    "    _p = A.shape[1]\n",
    "    sigma = np.cov(A.T)\n",
    "    det_sigma = np.linalg.det(sigma)\n",
    "    trace_sigma = np.trace(sigma)\n",
    "    u = (_p**_p)*det_sigma/(trace_sigma**_p)\n",
    "    if not full:\n",
    "        u=np.log(u)\n",
    "        u*=-(n-1-(2*(_p**2)+_p+2)/(6*_p))\n",
    "    u_ref = sts.chi2.ppf(p, _p * (_p + 1) // 2 -1)\n",
    "    print('\\tu_til\\tChi quatile\\n',u, '\\t',u_ref)\n",
    "    return u<u_ref"
   ]
  },
  {
   "cell_type": "code",
   "execution_count": 23,
   "id": "4026a58e",
   "metadata": {},
   "outputs": [
    {
     "name": "stdout",
     "output_type": "stream",
     "text": [
      "\tu_til\tChi quatile\n",
      " 13.78687641009019 \t 16.918977604620448\n"
     ]
    },
    {
     "data": {
      "text/plain": [
       "True"
      ]
     },
     "execution_count": 23,
     "metadata": {},
     "output_type": "execute_result"
    }
   ],
   "source": [
    "#for large count of samples\n",
    "mauchly_test(C, p=.95, full=False)"
   ]
  },
  {
   "cell_type": "code",
   "execution_count": 24,
   "id": "f8076d9e",
   "metadata": {},
   "outputs": [
    {
     "name": "stdout",
     "output_type": "stream",
     "text": [
      "      0     1     2     3  subject\n",
      "0  30.0  21.0  21.0  14.0        0\n",
      "1  22.0  13.0  22.0   5.0        1\n",
      "2  29.0  13.0  18.0  17.0        2\n",
      "3  12.0   7.0  16.0  14.0        3\n",
      "4  23.0  24.0  23.0   8.0        4\n"
     ]
    },
    {
     "data": {
      "text/plain": [
       "SpherResults(spher=True, W=0.02973893329088925, chi2=8.495303998844067, dof=9, pval=0.5898127067362575)"
      ]
     },
     "execution_count": 24,
     "metadata": {},
     "output_type": "execute_result"
    }
   ],
   "source": [
    "#check\n",
    "df = pd.DataFrame(np.hstack([A,B]))\n",
    "df['subject'] = np.repeat(range(len(df)),1)\n",
    "print(df)\n",
    "pg.sphericity(df, method='mauchly')\n",
    "#Returns\n",
    "# spherboolean\n",
    "# True if data have the sphericity property.\n",
    "\n",
    "# Wfloat\n",
    "# Test statistic.\n",
    "\n",
    "# chi2float\n",
    "# Chi-square statistic.\n",
    "\n",
    "# dofint\n",
    "# Degrees of freedom.\n",
    "\n",
    "# pvalfloat\n",
    "# P-value.\n",
    "\n"
   ]
  },
  {
   "cell_type": "markdown",
   "id": "23dbece4",
   "metadata": {},
   "source": [
    "**Conclusion**\n",
    "\n",
    "The calculator speed data has spherical covariation matrix ($H_0$ isn't rejected)"
   ]
  },
  {
   "cell_type": "markdown",
   "id": "30a3b41d",
   "metadata": {},
   "source": [
    "### Task 3\n",
    "\n",
    "**7.28** [Rencher p. 283](https://drive.google.com/file/d/163WNrEq6DMY7ryppXldQUmI9A7SEQFh0/view)\n",
    "\n",
    "Test independence of $(y_1, y_2)$ and $(x_1, x_2)$ for the sons data in Table 3.7. (Measurements on the First and Second Adult\n",
    "Sons in a Sample of 25 Families)"
   ]
  },
  {
   "cell_type": "code",
   "execution_count": 64,
   "id": "1026c16d",
   "metadata": {},
   "outputs": [
    {
     "name": "stdout",
     "output_type": "stream",
     "text": [
      "(25, 2) (25, 2)\n"
     ]
    }
   ],
   "source": [
    "_annot = '''First Son Second Son\n",
    "Head Head Head Head\n",
    "Length Breadth Length Breadth\n",
    "y1 y2 x1 x2'''\n",
    "_data ='''191 155 179 145\n",
    "195 149 201 152\n",
    "181 148 185 149\n",
    "183 153 188 149\n",
    "176 144 171 142\n",
    "208 157 192 152\n",
    "189 150 190 149\n",
    "197 159 189 152\n",
    "188 152 197 159\n",
    "192 150 187 151\n",
    "179 158 186 148\n",
    "183 147 174 147\n",
    "174 150 185 152\n",
    "190 159 195 157\n",
    "188 151 187 158\n",
    "163 137 161 130\n",
    "195 155 183 158\n",
    "186 153 173 148\n",
    "181 145 182 146\n",
    "175 140 165 137\n",
    "192 154 185 152\n",
    "174 143 178 147\n",
    "176 139 176 143\n",
    "197 167 200 158\n",
    "190 163 187 150'''\n",
    "tmp = np.loadtxt(_data.splitlines())\n",
    "A, B = tmp[:,:2], tmp[:,2:]\n",
    "print(A.shape, B.shape)"
   ]
  },
  {
   "cell_type": "markdown",
   "id": "bf5c14d2",
   "metadata": {},
   "source": [
    "In this problem, we will perform an independence test on two samples.\n",
    "Covariation matrix of two variable $x$ and $y$ contains from diagonal elements which describes variation of each variable and non-diagonal elements which describes variation between variables. So for independence test in $H_0$ we check covariation matrix on the block strutcture with alternative hypotesis which statement is contewise:\n",
    "\n",
    "$\n",
    "H_0: \\Sigma = \\Sigma_0 =\n",
    "\\left(\\begin{array}{@{}c|c@{}}\n",
    "  \\begin{matrix}\n",
    "  \\Sigma_{xx}\n",
    "  \\end{matrix}\n",
    "  & 0 \\\\\n",
    "\\hline\n",
    "  0 &\n",
    "  \\begin{matrix}\n",
    "    \\Sigma_{yy}\n",
    "  \\end{matrix}\n",
    "\\end{array}\\right)\n",
    "$\n",
    "\n",
    "$H_1:$ counterwise\n",
    "\n",
    "For test this hypotesis we can use The Wilks' lambda statistic which is a measure of the proportion of the total variance in the dependent variable that is not accounted for by the independent variable(s) in a multivariate analysis of variance :\n",
    "\n",
    "$\n",
    "\\Lambda = \\frac{|S|}{|S_{xx}||S_{yy}|} = \\frac{|E|}{|E+H|} \n",
    "$\n",
    "\n",
    "where \n",
    "\n",
    "$\n",
    "E := S_{yy} − S_{yx}S^{−1}_{xx}S_{xy}\n",
    "$\n",
    "$-$ Error matrix\n",
    "\n",
    "$\n",
    "H := S_{yx}S^{−1}_{xx}S_{xy},\n",
    "$\n",
    "$-$ Hypotesis matrix\n",
    "\n",
    "\n",
    "If $H_0$ is true $\\Lambda$ can be aproximate by Fisher distridution:\n",
    "\n",
    "$\n",
    "F = \\frac{\n",
    "1 − Λ^{1/t}}{\n",
    "Λ^{1/t}}\n",
    "\\frac{df_2}{df_1}\n",
    "∼ F_{df_1,df_2}\n",
    "$\n",
    "\n",
    "$\n",
    "df_1 = pν_H, df_2 = wt − \\frac{1}{2}(pν_H − 2)\n",
    "$\n",
    "\n",
    "$\n",
    "w = ν_E + ν_H − \\frac{1}{2}(p + ν_H + 1)\n",
    ",  \n",
    "t = \\sqrt{\n",
    "\\frac{p^2ν^2_H − 4}{p^2 + ν^2_H − 5}}\n",
    "$\n",
    "\n",
    "$\\nu_E, \\nu_H$ - freedom degrees of E and H matrices"
   ]
  },
  {
   "cell_type": "code",
   "execution_count": 65,
   "id": "35f25fa9",
   "metadata": {},
   "outputs": [],
   "source": [
    "def wilks_test(A, B, p):\n",
    "    _p, n = A.shape[1], (A.shape[0]+B.shape[0])//2\n",
    "    nu_E, nu_H = n-1-_p, _p\n",
    "    \n",
    "    df_1 = _p*nu_H\n",
    "    w, t = nu_E+nu_H-(1/2)*(_p+nu_H+1), np.sqrt(((_p**2)*(nu_H**2)-4)/(_p**2+nu_H**2-5))\n",
    "\n",
    "    df_2 = w*t - (1/2)*(_p*nu_H-2)\n",
    "    cov = np.cov(A.T, B.T)\n",
    "    cov_A = np.cov(A.T)\n",
    "    cov_B = np.cov(B.T)\n",
    "    \n",
    "    det_cov = np.linalg.det(cov)\n",
    "    det_cov_A = np.linalg.det(cov_A)\n",
    "    det_cov_B = np.linalg.det(cov_B)\n",
    "    \n",
    "    lamb = det_cov/(det_cov_A*det_cov_B)\n",
    "    print(lamb)\n",
    "        \n",
    "    F = ((1-lamb**(1/t))/(lamb**(1/t)))*(df_2/df_1)\n",
    "    \n",
    "    F_ref = sts.f.ppf(p, df_1, df_2)\n",
    "    \n",
    "    print('\\tF\\tFisher quantile\\n', F,'\\t', F_ref)\n",
    "    \n",
    "    return F<F_ref\n",
    "    "
   ]
  },
  {
   "cell_type": "code",
   "execution_count": 66,
   "id": "3e10a467",
   "metadata": {},
   "outputs": [
    {
     "name": "stdout",
     "output_type": "stream",
     "text": [
      "0.37716288143958154\n",
      "\tlambda\tFisher quantile\n",
      " 6.597193486693307 \t 2.594263371345763\n",
      "Is H_O true False\n"
     ]
    }
   ],
   "source": [
    "print('Is H_O true', wilks_test(A, B, p=.95))"
   ]
  },
  {
   "cell_type": "code",
   "execution_count": 31,
   "id": "5a6bf4c0",
   "metadata": {},
   "outputs": [
    {
     "ename": "AttributeError",
     "evalue": "module 'scipy.stats.mstats' has no attribute 'f_value_wilks_lambda'",
     "output_type": "error",
     "traceback": [
      "\u001b[1;31m---------------------------------------------------------------------------\u001b[0m",
      "\u001b[1;31mAttributeError\u001b[0m                            Traceback (most recent call last)",
      "\u001b[1;32m~\\AppData\\Local\\Temp\\ipykernel_20752\\3256876081.py\u001b[0m in \u001b[0;36m<module>\u001b[1;34m\u001b[0m\n\u001b[0;32m      1\u001b[0m \u001b[1;31m#check\u001b[0m\u001b[1;33m\u001b[0m\u001b[1;33m\u001b[0m\u001b[0m\n\u001b[1;32m----> 2\u001b[1;33m \u001b[0msts\u001b[0m\u001b[1;33m.\u001b[0m\u001b[0mmstats\u001b[0m\u001b[1;33m.\u001b[0m\u001b[0mf_value_wilks_lambda\u001b[0m\u001b[1;33m\u001b[0m\u001b[1;33m\u001b[0m\u001b[0m\n\u001b[0m",
      "\u001b[1;31mAttributeError\u001b[0m: module 'scipy.stats.mstats' has no attribute 'f_value_wilks_lambda'"
     ]
    }
   ],
   "source": [
    "#check\n",
    "sts.mstats.f_value_wilks_lambda"
   ]
  },
  {
   "cell_type": "markdown",
   "id": "43c1067c",
   "metadata": {},
   "source": [
    "**Conlusion**\n",
    "\n",
    "$H_0$ is rejected. There is no depence between length or breadth between first and second sons."
   ]
  },
  {
   "cell_type": "markdown",
   "id": "ac79a312",
   "metadata": {},
   "source": [
    "## Linear regression and analysis of variance"
   ]
  },
  {
   "cell_type": "code",
   "execution_count": 67,
   "id": "a6c3d048",
   "metadata": {},
   "outputs": [],
   "source": [
    "from sklearn import linear_model\n",
    "from matplotlib import pyplot as plt\n",
    "import statsmodels.api as sm\n",
    "from statsmodels.multivariate.manova import MANOVA"
   ]
  },
  {
   "cell_type": "markdown",
   "id": "c932dc0f",
   "metadata": {},
   "source": [
    "### Task 1\n",
    "\n",
    "**Table 3.1.** [Rencher p. 60](https://drive.google.com/file/d/163WNrEq6DMY7ryppXldQUmI9A7SEQFh0/view) Height and Weight for a Sample of 20 College-age Males"
   ]
  },
  {
   "cell_type": "code",
   "execution_count": 68,
   "id": "a03f6d57",
   "metadata": {},
   "outputs": [],
   "source": [
    "_annot = '''Person x y Person x y'''\n",
    "_data = '''1 69 153 11 72 140\n",
    "2 74 175 12 79 265\n",
    "3 68 155 13 74 185\n",
    "4 70 135 14 67 112\n",
    "5 72 172 15 66 140\n",
    "6 67 150 16 71 150\n",
    "7 66 115 17 74 165\n",
    "8 70 137 18 75 185\n",
    "9 76 200 19 75 210\n",
    "10 68 130 20 76 220'''\n",
    "\n",
    "tmp = np.loadtxt(_data.splitlines())\n",
    "A, B = tmp[:,:3], tmp[:,3:] #groups\n",
    "A, B = A[:,1:], B[:,1:] #without numeration\n",
    "C = np.concatenate([A, B])"
   ]
  },
  {
   "cell_type": "code",
   "execution_count": 69,
   "id": "34361a6d",
   "metadata": {},
   "outputs": [
    {
     "name": "stdout",
     "output_type": "stream",
     "text": [
      "Coef. of determination 0.7906235292867809\n",
      "Intercept\tSlope\n",
      " -467.0372 \t 8.8417\n"
     ]
    },
    {
     "data": {
      "text/plain": [
       "<matplotlib.legend.Legend at 0x18beccaad00>"
      ]
     },
     "execution_count": 69,
     "metadata": {},
     "output_type": "execute_result"
    },
    {
     "data": {
      "image/png": "[encoded data removed]",
      "text/plain": [
       "<Figure size 640x480 with 1 Axes>"
      ]
     },
     "metadata": {},
     "output_type": "display_data"
    }
   ],
   "source": [
    "x, y = C[:,0].reshape(-1, 1), C[:,1].reshape(-1, 1)\n",
    "model = linear_model.LinearRegression().fit(x,y)\n",
    "r_sq = model.score(x, y)\n",
    "print('Coef. of determination', r_sq)\n",
    "print('Intercept\\tSlope\\n', np.round(model.intercept_[0],4),'\\t', np.round(model.coef_[0][0],4))\n",
    "y_vals = model.intercept_[0] + model.coef_[0][0] * x\n",
    "plt.plot(x, y_vals, '--', c='r', label = 'LR')\n",
    "plt.scatter(x, y, label='data')\n",
    "plt.legend()"
   ]
  },
  {
   "cell_type": "markdown",
   "id": "20e97a14",
   "metadata": {},
   "source": [
    "**Conclusion**\n",
    "\n",
    "Coefficient of determination is close to zero so we can say that between height and weight in given dataset exist linear depence"
   ]
  },
  {
   "cell_type": "markdown",
   "id": "b0f1a415",
   "metadata": {},
   "source": [
    "### Task 2\n",
    "\n",
    "**Table 3.4.** [Rencher p. 80](https://drive.google.com/file/d/163WNrEq6DMY7ryppXldQUmI9A7SEQFh0/view) Relative Weight, Blood Glucose, and Insulin Levels"
   ]
  },
  {
   "cell_type": "code",
   "execution_count": 70,
   "id": "b866fe96",
   "metadata": {},
   "outputs": [],
   "source": [
    "_annot = '''Number y1 y2 x1 x2 x3'''\n",
    "_data = '''1 .81 80 356 124 55\n",
    "2 .95 97 289 117 76\n",
    "3 .94 105 319 143 105\n",
    "4 1.04 90 356 199 108\n",
    "5 1.00 90 323 240 143\n",
    "6 .76 86 381 157 165\n",
    "7 .91 100 350 221 119\n",
    "8 1.10 85 301 186 105\n",
    "9 .99 97 379 142 98\n",
    "10 .78 97 296 131 94\n",
    "11 .90 91 353 221 53\n",
    "12 .73 87 306 178 66\n",
    "13 .96 78 290 136 142\n",
    "14 .84 90 371 200 93\n",
    "15 .74 86 312 208 68\n",
    "16 .98 80 393 202 102\n",
    "17 1.10 90 364 152 76\n",
    "18 .85 99 359 185 37\n",
    "19 .83 85 296 116 60\n",
    "20 .93 90 345 123 50\n",
    "21 .95 90 378 136 47\n",
    "22 .74 88 304 134 50\n",
    "23 .95 95 347 184 91\n",
    "24 .97 90 327 192 124\n",
    "25 .72 92 386 279 74\n",
    "26 1.11 74 365 228 235\n",
    "27 1.20 98 365 145 158\n",
    "28 1.13 100 352 172 140\n",
    "29 1.00 86 325 179 145\n",
    "30 .78 98 321 222 99\n",
    "31 1.00 70 360 134 90\n",
    "32 1.00 99 336 143 105\n",
    "33 .71 75 352 169 32\n",
    "34 .76 90 353 263 165\n",
    "35 .89 85 373 174 78\n",
    "36 .88 99 376 134 80\n",
    "37 1.17 100 367 182 54\n",
    "38 .85 78 335 241 175\n",
    "39 .97 106 396 128 80\n",
    "40 1.00 98 277 222 186\n",
    "41 1.00 102 378 165 117\n",
    "42 .89 90 360 282 160\n",
    "43 .98 94 291 94 71\n",
    "44 .78 80 269 121 29\n",
    "45 .74 93 318 73 42\n",
    "46 .91 86 328 106 56'''\n",
    "\n",
    "tmp = np.loadtxt(_data.splitlines())\n",
    "A = tmp[:,1:]"
   ]
  },
  {
   "cell_type": "code",
   "execution_count": 72,
   "id": "838989b7",
   "metadata": {},
   "outputs": [
    {
     "name": "stdout",
     "output_type": "stream",
     "text": [
      "Coef. of determination 0.25834168650748346\n",
      "Intercept\tSlope\n",
      " [0.6264] \t [[ 0.0009 -0.001   0.0015]]\n"
     ]
    },
    {
     "data": {
      "image/png": "[encoded data removed]",
      "text/plain": [
       "<Figure size 1200x300 with 3 Axes>"
      ]
     },
     "metadata": {},
     "output_type": "display_data"
    }
   ],
   "source": [
    "x, y = A[:,2:], A[:,0].reshape(-1, 1)\n",
    "model1 = linear_model.LinearRegression().fit(x,y)\n",
    "r_sq = model1.score(x, y)\n",
    "print('Coef. of determination', r_sq)\n",
    "print('Intercept\\tSlope\\n', np.round(model1.intercept_,4),'\\t', np.round(model1.coef_,4))\n",
    "\n",
    "fig, ax = plt.subplots(nrows=1, ncols=3, figsize = (12,3))\n",
    "ax = ax.flatten()\n",
    "for i in range(3):\n",
    "    x_vals = np.linspace(x[:,i].min(), x[:,i].max(), 30 )\n",
    "    y_vals = model1.intercept_[0] + model1.coef_[0][i] * x_vals\n",
    "    ax[i].plot(x_vals, y_vals, '--', c='r', label = 'LR')\n",
    "    ax[i].scatter(x[:,i], y, label='data')\n",
    "    ax[i].legend()\n",
    "    ax[i].set_xlabel(f'x_{i+1}')\n",
    "    ax[i].set_ylabel(f'y_{2}')    "
   ]
  },
  {
   "cell_type": "code",
   "execution_count": 37,
   "id": "25c85e35",
   "metadata": {},
   "outputs": [
    {
     "data": {
      "text/plain": [
       "array([[ 0.00265972],\n",
       "       [-0.00090103],\n",
       "       [ 0.00163693]])"
      ]
     },
     "execution_count": 37,
     "metadata": {},
     "output_type": "execute_result"
    }
   ],
   "source": [
    "B =  np.linalg.inv(x.T @ x) @ (x.T @ y)\n",
    "B #coef."
   ]
  },
  {
   "cell_type": "code",
   "execution_count": 38,
   "id": "f07eae84",
   "metadata": {},
   "outputs": [
    {
     "name": "stdout",
     "output_type": "stream",
     "text": [
      "                                 OLS Regression Results                                \n",
      "=======================================================================================\n",
      "Dep. Variable:                      y   R-squared (uncentered):                   0.982\n",
      "Model:                            OLS   Adj. R-squared (uncentered):              0.981\n",
      "Method:                 Least Squares   F-statistic:                              790.1\n",
      "Date:                Thu, 06 Apr 2023   Prob (F-statistic):                    1.31e-37\n",
      "Time:                        09:43:31   Log-Likelihood:                          30.878\n",
      "No. Observations:                  46   AIC:                                     -55.76\n",
      "Df Residuals:                      43   BIC:                                     -50.27\n",
      "Df Model:                           3                                                  \n",
      "Covariance Type:            nonrobust                                                  \n",
      "==============================================================================\n",
      "                 coef    std err          t      P>|t|      [0.025      0.975]\n",
      "------------------------------------------------------------------------------\n",
      "x1             0.0027      0.000     12.723      0.000       0.002       0.003\n",
      "x2            -0.0009      0.000     -1.930      0.060      -0.002    4.02e-05\n",
      "x3             0.0016      0.000      3.431      0.001       0.001       0.003\n",
      "==============================================================================\n",
      "Omnibus:                        3.292   Durbin-Watson:                   2.269\n",
      "Prob(Omnibus):                  0.193   Jarque-Bera (JB):                2.412\n",
      "Skew:                          -0.272   Prob(JB):                        0.299\n",
      "Kurtosis:                       3.981   Cond. No.                         12.3\n",
      "==============================================================================\n",
      "\n",
      "Notes:\n",
      "[1] R² is computed without centering (uncentered) since the model does not contain a constant.\n",
      "[2] Standard Errors assume that the covariance matrix of the errors is correctly specified.\n",
      "[ 0.00265972 -0.00090103  0.00163693]\n",
      "[0.00020905 0.00046674 0.00047713]\n"
     ]
    }
   ],
   "source": [
    "#check\n",
    "_model = sm.OLS(y,x)\n",
    "results = _model.fit() \n",
    "print(results.summary())\n",
    "print(results.params) #coef\n",
    "print(results.bse) #err"
   ]
  },
  {
   "cell_type": "markdown",
   "id": "5917c0c7",
   "metadata": {},
   "source": [
    "**Conclusion**\n",
    "\n",
    "$R^2$ is close to 1, so linear regression doesn't describes data well"
   ]
  },
  {
   "cell_type": "markdown",
   "id": "3cc26afb",
   "metadata": {},
   "source": [
    "### Task 3\n",
    "\n",
    "multivariate LR for table 3.4"
   ]
  },
  {
   "cell_type": "code",
   "execution_count": 39,
   "id": "5b4efa1b",
   "metadata": {},
   "outputs": [
    {
     "name": "stdout",
     "output_type": "stream",
     "text": [
      "[[ 0.00090822 -0.00095571  0.00148974]\n",
      " [ 0.02870058 -0.01272444 -0.00440592]]\n",
      "[ 0.62639028 83.24254057]\n"
     ]
    },
    {
     "name": "stderr",
     "output_type": "stream",
     "text": [
      "D:\\conda\\lib\\site-packages\\sklearn\\linear_model\\_base.py:148: FutureWarning: 'normalize' was deprecated in version 1.0 and will be removed in 1.2. Please leave the normalize parameter to its default value to silence this warning. The default behavior of this estimator is to not do any normalization. If normalization is needed please use sklearn.preprocessing.StandardScaler instead.\n",
      "  warnings.warn(\n"
     ]
    }
   ],
   "source": [
    "x, y = A[:,2:], A[:,:2]\n",
    "model_ols =  linear_model.LinearRegression(normalize=False)\n",
    "results2 = model_ols.fit(x,y)\n",
    "print(model_ols.coef_)  \n",
    "print(model_ols.intercept_)"
   ]
  },
  {
   "cell_type": "code",
   "execution_count": 73,
   "id": "458b8391",
   "metadata": {},
   "outputs": [
    {
     "name": "stdout",
     "output_type": "stream",
     "text": [
      "                  Multivariate linear model\n",
      "=============================================================\n",
      "                                                             \n",
      "-------------------------------------------------------------\n",
      "           x0           Value  Num DF  Den DF F Value  Pr > F\n",
      "-------------------------------------------------------------\n",
      "          Wilks' lambda 0.1549 2.0000 42.0000 114.6039 0.0000\n",
      "         Pillai's trace 0.8451 2.0000 42.0000 114.6039 0.0000\n",
      " Hotelling-Lawley trace 5.4573 2.0000 42.0000 114.6039 0.0000\n",
      "    Roy's greatest root 5.4573 2.0000 42.0000 114.6039 0.0000\n",
      "-------------------------------------------------------------\n",
      "                                                             \n",
      "-------------------------------------------------------------\n",
      "            x1           Value  Num DF  Den DF F Value Pr > F\n",
      "-------------------------------------------------------------\n",
      "           Wilks' lambda 0.9048 2.0000 42.0000  2.2085 0.1225\n",
      "          Pillai's trace 0.0952 2.0000 42.0000  2.2085 0.1225\n",
      "  Hotelling-Lawley trace 0.1052 2.0000 42.0000  2.2085 0.1225\n",
      "     Roy's greatest root 0.1052 2.0000 42.0000  2.2085 0.1225\n",
      "-------------------------------------------------------------\n",
      "                                                             \n",
      "-------------------------------------------------------------\n",
      "            x2           Value  Num DF  Den DF F Value Pr > F\n",
      "-------------------------------------------------------------\n",
      "           Wilks' lambda 0.7561 2.0000 42.0000  6.7751 0.0028\n",
      "          Pillai's trace 0.2439 2.0000 42.0000  6.7751 0.0028\n",
      "  Hotelling-Lawley trace 0.3226 2.0000 42.0000  6.7751 0.0028\n",
      "     Roy's greatest root 0.3226 2.0000 42.0000  6.7751 0.0028\n",
      "=============================================================\n",
      "\n"
     ]
    }
   ],
   "source": [
    "df = pd.DataFrame(A, columns='y1 y2 x1 x2 x3'.split(' '))\n",
    "# fit = MANOVA.from_formula('y ~ x', data= df, test =\" Wilks \")\n",
    "fit = MANOVA(df['y1 y2'.split(' ')], df['x1 x2 x3'.split(' ')])\n",
    "\n",
    "print(fit.mv_test())"
   ]
  }
 ],
 "metadata": {
  "kernelspec": {
   "display_name": "Python [conda env:root]",
   "language": "python",
   "name": "conda-root-py"
  },
  "language_info": {
   "codemirror_mode": {
    "name": "ipython",
    "version": 3
   },
   "file_extension": ".py",
   "mimetype": "text/x-python",
   "name": "python",
   "nbconvert_exporter": "python",
   "pygments_lexer": "ipython3",
   "version": "3.9.13"
  }
 },
 "nbformat": 4,
 "nbformat_minor": 5
}
